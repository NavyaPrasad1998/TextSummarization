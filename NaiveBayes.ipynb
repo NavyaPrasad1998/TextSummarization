{
  "cells": [
    {
      "cell_type": "markdown",
      "id": "49c7ac40",
      "metadata": {
        "id": "49c7ac40"
      },
      "source": [
        "# 1. SENTIMENT ANALYSIS ON PRODUCT REVIEWS"
      ]
    },
    {
      "cell_type": "code",
      "execution_count": null,
      "id": "6ac92eb4",
      "metadata": {
        "id": "6ac92eb4"
      },
      "outputs": [],
      "source": [
        "import pandas as pd\n",
        "import seaborn as sns\n",
        "from sklearn.model_selection import train_test_split\n",
        "from sklearn.feature_extraction.text import CountVectorizer\n",
        "from sklearn.naive_bayes import MultinomialNB\n",
        "from sklearn.metrics import accuracy_score\n",
        "from sklearn.metrics import confusion_matrix, accuracy_score, precision_score, recall_score, f1_score"
      ]
    },
    {
      "cell_type": "code",
      "execution_count": null,
      "id": "92b1d9c9",
      "metadata": {
        "id": "92b1d9c9",
        "outputId": "d0781a1e-0ca3-4bff-ccd9-de377ce28b66"
      },
      "outputs": [
        {
          "data": {
            "text/html": [
              "<div>\n",
              "<style scoped>\n",
              "    .dataframe tbody tr th:only-of-type {\n",
              "        vertical-align: middle;\n",
              "    }\n",
              "\n",
              "    .dataframe tbody tr th {\n",
              "        vertical-align: top;\n",
              "    }\n",
              "\n",
              "    .dataframe thead th {\n",
              "        text-align: right;\n",
              "    }\n",
              "</style>\n",
              "<table border=\"1\" class=\"dataframe\">\n",
              "  <thead>\n",
              "    <tr style=\"text-align: right;\">\n",
              "      <th></th>\n",
              "      <th>review_id</th>\n",
              "      <th>product_id</th>\n",
              "      <th>reviewer_id</th>\n",
              "      <th>stars</th>\n",
              "      <th>review_body</th>\n",
              "      <th>review_title</th>\n",
              "      <th>language</th>\n",
              "      <th>product_category</th>\n",
              "    </tr>\n",
              "  </thead>\n",
              "  <tbody>\n",
              "    <tr>\n",
              "      <th>0</th>\n",
              "      <td>en_0964290</td>\n",
              "      <td>product_en_0740675</td>\n",
              "      <td>reviewer_en_0342986</td>\n",
              "      <td>1</td>\n",
              "      <td>Arrived broken. Manufacturer defect. Two of th...</td>\n",
              "      <td>I'll spend twice the amount of time boxing up ...</td>\n",
              "      <td>en</td>\n",
              "      <td>furniture</td>\n",
              "    </tr>\n",
              "    <tr>\n",
              "      <th>1</th>\n",
              "      <td>en_0690095</td>\n",
              "      <td>product_en_0440378</td>\n",
              "      <td>reviewer_en_0133349</td>\n",
              "      <td>1</td>\n",
              "      <td>the cabinet dot were all detached from backing...</td>\n",
              "      <td>Not use able</td>\n",
              "      <td>en</td>\n",
              "      <td>home_improvement</td>\n",
              "    </tr>\n",
              "    <tr>\n",
              "      <th>2</th>\n",
              "      <td>en_0311558</td>\n",
              "      <td>product_en_0399702</td>\n",
              "      <td>reviewer_en_0152034</td>\n",
              "      <td>1</td>\n",
              "      <td>I received my first order of this product and ...</td>\n",
              "      <td>The product is junk.</td>\n",
              "      <td>en</td>\n",
              "      <td>home</td>\n",
              "    </tr>\n",
              "    <tr>\n",
              "      <th>3</th>\n",
              "      <td>en_0044972</td>\n",
              "      <td>product_en_0444063</td>\n",
              "      <td>reviewer_en_0656967</td>\n",
              "      <td>1</td>\n",
              "      <td>This product is a piece of shit. Do not buy. D...</td>\n",
              "      <td>Fucking waste of money</td>\n",
              "      <td>en</td>\n",
              "      <td>wireless</td>\n",
              "    </tr>\n",
              "    <tr>\n",
              "      <th>4</th>\n",
              "      <td>en_0784379</td>\n",
              "      <td>product_en_0139353</td>\n",
              "      <td>reviewer_en_0757638</td>\n",
              "      <td>1</td>\n",
              "      <td>went through 3 in one day doesn't fit correct ...</td>\n",
              "      <td>bubble</td>\n",
              "      <td>en</td>\n",
              "      <td>pc</td>\n",
              "    </tr>\n",
              "  </tbody>\n",
              "</table>\n",
              "</div>"
            ],
            "text/plain": [
              "    review_id          product_id          reviewer_id  stars  \\\n",
              "0  en_0964290  product_en_0740675  reviewer_en_0342986      1   \n",
              "1  en_0690095  product_en_0440378  reviewer_en_0133349      1   \n",
              "2  en_0311558  product_en_0399702  reviewer_en_0152034      1   \n",
              "3  en_0044972  product_en_0444063  reviewer_en_0656967      1   \n",
              "4  en_0784379  product_en_0139353  reviewer_en_0757638      1   \n",
              "\n",
              "                                         review_body  \\\n",
              "0  Arrived broken. Manufacturer defect. Two of th...   \n",
              "1  the cabinet dot were all detached from backing...   \n",
              "2  I received my first order of this product and ...   \n",
              "3  This product is a piece of shit. Do not buy. D...   \n",
              "4  went through 3 in one day doesn't fit correct ...   \n",
              "\n",
              "                                        review_title language  \\\n",
              "0  I'll spend twice the amount of time boxing up ...       en   \n",
              "1                                       Not use able       en   \n",
              "2                               The product is junk.       en   \n",
              "3                             Fucking waste of money       en   \n",
              "4                                             bubble       en   \n",
              "\n",
              "   product_category  \n",
              "0         furniture  \n",
              "1  home_improvement  \n",
              "2              home  \n",
              "3          wireless  \n",
              "4                pc  "
            ]
          },
          "execution_count": 3,
          "metadata": {},
          "output_type": "execute_result"
        }
      ],
      "source": [
        "json_file_path = 'dataset_en_train.json'\n",
        "df = pd.read_json(json_file_path, lines=True)\n",
        "df.head()"
      ]
    },
    {
      "cell_type": "code",
      "execution_count": null,
      "id": "5c1c98a9",
      "metadata": {
        "id": "5c1c98a9",
        "outputId": "e5052218-3a5f-4b84-da53-2061c80bd85f"
      },
      "outputs": [
        {
          "data": {
            "text/html": [
              "<div>\n",
              "<style scoped>\n",
              "    .dataframe tbody tr th:only-of-type {\n",
              "        vertical-align: middle;\n",
              "    }\n",
              "\n",
              "    .dataframe tbody tr th {\n",
              "        vertical-align: top;\n",
              "    }\n",
              "\n",
              "    .dataframe thead th {\n",
              "        text-align: right;\n",
              "    }\n",
              "</style>\n",
              "<table border=\"1\" class=\"dataframe\">\n",
              "  <thead>\n",
              "    <tr style=\"text-align: right;\">\n",
              "      <th></th>\n",
              "      <th>text</th>\n",
              "      <th>summary</th>\n",
              "      <th>rating</th>\n",
              "    </tr>\n",
              "  </thead>\n",
              "  <tbody>\n",
              "    <tr>\n",
              "      <th>0</th>\n",
              "      <td>Arrived broken. Manufacturer defect. Two of th...</td>\n",
              "      <td>I'll spend twice the amount of time boxing up ...</td>\n",
              "      <td>1</td>\n",
              "    </tr>\n",
              "    <tr>\n",
              "      <th>1</th>\n",
              "      <td>the cabinet dot were all detached from backing...</td>\n",
              "      <td>Not use able</td>\n",
              "      <td>1</td>\n",
              "    </tr>\n",
              "    <tr>\n",
              "      <th>2</th>\n",
              "      <td>I received my first order of this product and ...</td>\n",
              "      <td>The product is junk.</td>\n",
              "      <td>1</td>\n",
              "    </tr>\n",
              "    <tr>\n",
              "      <th>3</th>\n",
              "      <td>This product is a piece of shit. Do not buy. D...</td>\n",
              "      <td>Fucking waste of money</td>\n",
              "      <td>1</td>\n",
              "    </tr>\n",
              "    <tr>\n",
              "      <th>4</th>\n",
              "      <td>went through 3 in one day doesn't fit correct ...</td>\n",
              "      <td>bubble</td>\n",
              "      <td>1</td>\n",
              "    </tr>\n",
              "  </tbody>\n",
              "</table>\n",
              "</div>"
            ],
            "text/plain": [
              "                                                text  \\\n",
              "0  Arrived broken. Manufacturer defect. Two of th...   \n",
              "1  the cabinet dot were all detached from backing...   \n",
              "2  I received my first order of this product and ...   \n",
              "3  This product is a piece of shit. Do not buy. D...   \n",
              "4  went through 3 in one day doesn't fit correct ...   \n",
              "\n",
              "                                             summary  rating  \n",
              "0  I'll spend twice the amount of time boxing up ...       1  \n",
              "1                                       Not use able       1  \n",
              "2                               The product is junk.       1  \n",
              "3                             Fucking waste of money       1  \n",
              "4                                             bubble       1  "
            ]
          },
          "execution_count": 4,
          "metadata": {},
          "output_type": "execute_result"
        }
      ],
      "source": [
        "# only keep columns that are required\n",
        "df = df[['review_body', 'review_title','stars']]\n",
        "df = df.rename(columns={\"review_body\": \"text\", \"review_title\": \"summary\", \"stars\":\"rating\"})\n",
        "df.head()"
      ]
    },
    {
      "cell_type": "code",
      "execution_count": null,
      "id": "df51a307",
      "metadata": {
        "id": "df51a307",
        "outputId": "0ec0b541-b38f-469a-80b0-435577fa689e"
      },
      "outputs": [
        {
          "data": {
            "text/plain": [
              "200000"
            ]
          },
          "execution_count": 5,
          "metadata": {},
          "output_type": "execute_result"
        }
      ],
      "source": [
        "df = df.sample(20000, random_state=42)\n",
        "len(df2)"
      ]
    },
    {
      "cell_type": "markdown",
      "id": "c743dd3b",
      "metadata": {
        "id": "c743dd3b"
      },
      "source": [
        "## Check if the dataset is balanced"
      ]
    },
    {
      "cell_type": "code",
      "execution_count": null,
      "id": "ce8f7c48",
      "metadata": {
        "id": "ce8f7c48",
        "outputId": "55b7bdc8-639f-430a-bd30-1410e500e923"
      },
      "outputs": [
        {
          "data": {
            "image/png": "[encoded data removed]",
            "text/plain": [
              "<Figure size 1000x600 with 1 Axes>"
            ]
          },
          "metadata": {},
          "output_type": "display_data"
        }
      ],
      "source": [
        "import matplotlib.pyplot as plt\n",
        "\n",
        "rating = df['rating']\n",
        "\n",
        "# Plot the histogram\n",
        "plt.figure(figsize=(10, 6))\n",
        "plt.hist(rating, bins=20, color='yellow', edgecolor='black')\n",
        "plt.title('Histogram of Rating')\n",
        "plt.xlabel('Rating')\n",
        "plt.ylabel('Frequency')\n",
        "plt.show()"
      ]
    },
    {
      "cell_type": "code",
      "execution_count": null,
      "id": "d0a2e13a",
      "metadata": {
        "id": "d0a2e13a"
      },
      "outputs": [],
      "source": [
        "df.to_csv('data/reviews.csv', index=False)"
      ]
    },
    {
      "cell_type": "markdown",
      "id": "ca27b461",
      "metadata": {
        "id": "ca27b461"
      },
      "source": [
        "## Data Processing and Cleaning"
      ]
    },
    {
      "cell_type": "code",
      "execution_count": null,
      "id": "2ff1579d",
      "metadata": {
        "id": "2ff1579d"
      },
      "outputs": [],
      "source": [
        "# Filtering out neutral reviews (ratings of 3)\n",
        "filtered_df = df[df['rating'] != 3]"
      ]
    },
    {
      "cell_type": "code",
      "execution_count": null,
      "id": "ad325caf",
      "metadata": {
        "id": "ad325caf",
        "outputId": "2b012ab7-b688-474c-e2ae-2f1445e95528"
      },
      "outputs": [
        {
          "name": "stderr",
          "output_type": "stream",
          "text": [
            "/var/folders/l0/2psbd05152j5n5116yzg2lyc0000gn/T/ipykernel_41487/713542639.py:2: SettingWithCopyWarning: \n",
            "A value is trying to be set on a copy of a slice from a DataFrame.\n",
            "Try using .loc[row_indexer,col_indexer] = value instead\n",
            "\n",
            "See the caveats in the documentation: https://pandas.pydata.org/pandas-docs/stable/user_guide/indexing.html#returning-a-view-versus-a-copy\n",
            "  filtered_df['sentiment'] = filtered_df['rating'].apply(lambda x: 1 if x > 3 else 0)\n"
          ]
        }
      ],
      "source": [
        "# Mapping ratings to sentiment labels (1 for positive, 0 for negative)\n",
        "filtered_df['sentiment'] = filtered_df['rating'].apply(lambda x: 1 if x > 3 else 0)\n"
      ]
    },
    {
      "cell_type": "code",
      "execution_count": null,
      "id": "5259884d",
      "metadata": {
        "id": "5259884d",
        "outputId": "dfb4d3e6-2b3f-4bdd-b5f5-eb2a9241347f"
      },
      "outputs": [
        {
          "data": {
            "text/html": [
              "<div>\n",
              "<style scoped>\n",
              "    .dataframe tbody tr th:only-of-type {\n",
              "        vertical-align: middle;\n",
              "    }\n",
              "\n",
              "    .dataframe tbody tr th {\n",
              "        vertical-align: top;\n",
              "    }\n",
              "\n",
              "    .dataframe thead th {\n",
              "        text-align: right;\n",
              "    }\n",
              "</style>\n",
              "<table border=\"1\" class=\"dataframe\">\n",
              "  <thead>\n",
              "    <tr style=\"text-align: right;\">\n",
              "      <th></th>\n",
              "      <th>text</th>\n",
              "      <th>summary</th>\n",
              "      <th>rating</th>\n",
              "      <th>sentiment</th>\n",
              "    </tr>\n",
              "  </thead>\n",
              "  <tbody>\n",
              "    <tr>\n",
              "      <th>72272</th>\n",
              "      <td>The leg openings are a little small, but other...</td>\n",
              "      <td>Crap</td>\n",
              "      <td>2</td>\n",
              "      <td>0</td>\n",
              "    </tr>\n",
              "    <tr>\n",
              "      <th>158154</th>\n",
              "      <td>Really cute mug. I would have given 5 stars if...</td>\n",
              "      <td>Four Stars</td>\n",
              "      <td>4</td>\n",
              "      <td>1</td>\n",
              "    </tr>\n",
              "    <tr>\n",
              "      <th>65426</th>\n",
              "      <td>Well it’s looks and feels okay but it most cer...</td>\n",
              "      <td>Lies!!</td>\n",
              "      <td>2</td>\n",
              "      <td>0</td>\n",
              "    </tr>\n",
              "    <tr>\n",
              "      <th>30074</th>\n",
              "      <td>Very, very thin, you can bend them with you fi...</td>\n",
              "      <td>Thin and bendable :(</td>\n",
              "      <td>1</td>\n",
              "      <td>0</td>\n",
              "    </tr>\n",
              "    <tr>\n",
              "      <th>23677</th>\n",
              "      <td>Super cute! Loved it until I noticed that the ...</td>\n",
              "      <td>Came broken</td>\n",
              "      <td>1</td>\n",
              "      <td>0</td>\n",
              "    </tr>\n",
              "  </tbody>\n",
              "</table>\n",
              "</div>"
            ],
            "text/plain": [
              "                                                     text  \\\n",
              "72272   The leg openings are a little small, but other...   \n",
              "158154  Really cute mug. I would have given 5 stars if...   \n",
              "65426   Well it’s looks and feels okay but it most cer...   \n",
              "30074   Very, very thin, you can bend them with you fi...   \n",
              "23677   Super cute! Loved it until I noticed that the ...   \n",
              "\n",
              "                     summary  rating  sentiment  \n",
              "72272                   Crap       2          0  \n",
              "158154            Four Stars       4          1  \n",
              "65426                 Lies!!       2          0  \n",
              "30074   Thin and bendable :(       1          0  \n",
              "23677            Came broken       1          0  "
            ]
          },
          "execution_count": 12,
          "metadata": {},
          "output_type": "execute_result"
        }
      ],
      "source": [
        "filtered_df.head()"
      ]
    },
    {
      "cell_type": "code",
      "execution_count": null,
      "id": "d5601713",
      "metadata": {
        "id": "d5601713"
      },
      "outputs": [],
      "source": [
        "# Preparing the data for training and testing\n",
        "X_new = filtered_df['text']  # The text of the reviews\n",
        "y_new = filtered_df['sentiment']  # The sentiment labels derived from ratings\n"
      ]
    },
    {
      "cell_type": "code",
      "execution_count": null,
      "id": "19aff326",
      "metadata": {
        "id": "19aff326"
      },
      "outputs": [],
      "source": [
        "# Splitting the dataset into training and testing sets\n",
        "X_train_new, X_test_new, y_train_new, y_test_new = train_test_split(X_new, y_new, test_size=0.2, random_state=42)\n"
      ]
    },
    {
      "cell_type": "code",
      "execution_count": null,
      "id": "73840688",
      "metadata": {
        "id": "73840688",
        "outputId": "d088da96-3f55-4da8-d3ac-ca48f6208ee8"
      },
      "outputs": [
        {
          "data": {
            "text/html": [
              "<div>\n",
              "<style scoped>\n",
              "    .dataframe tbody tr th:only-of-type {\n",
              "        vertical-align: middle;\n",
              "    }\n",
              "\n",
              "    .dataframe tbody tr th {\n",
              "        vertical-align: top;\n",
              "    }\n",
              "\n",
              "    .dataframe thead th {\n",
              "        text-align: right;\n",
              "    }\n",
              "</style>\n",
              "<table border=\"1\" class=\"dataframe\">\n",
              "  <thead>\n",
              "    <tr style=\"text-align: right;\">\n",
              "      <th></th>\n",
              "      <th>text</th>\n",
              "      <th>sentiment</th>\n",
              "    </tr>\n",
              "  </thead>\n",
              "  <tbody>\n",
              "    <tr>\n",
              "      <th>129182</th>\n",
              "      <td>Cute but junky. However, I guess you know that...</td>\n",
              "      <td>1</td>\n",
              "    </tr>\n",
              "    <tr>\n",
              "      <th>175114</th>\n",
              "      <td>Packs Small. Nice for bug-out bag. Spoon is bi...</td>\n",
              "      <td>1</td>\n",
              "    </tr>\n",
              "    <tr>\n",
              "      <th>17310</th>\n",
              "      <td>Way too small. I got a large for my 9.5 feet a...</td>\n",
              "      <td>0</td>\n",
              "    </tr>\n",
              "    <tr>\n",
              "      <th>199708</th>\n",
              "      <td>Material too thin. Can see through it</td>\n",
              "      <td>1</td>\n",
              "    </tr>\n",
              "    <tr>\n",
              "      <th>138553</th>\n",
              "      <td>i love this fanny pack. it fits all the things...</td>\n",
              "      <td>1</td>\n",
              "    </tr>\n",
              "  </tbody>\n",
              "</table>\n",
              "</div>"
            ],
            "text/plain": [
              "                                                     text  sentiment\n",
              "129182  Cute but junky. However, I guess you know that...          1\n",
              "175114  Packs Small. Nice for bug-out bag. Spoon is bi...          1\n",
              "17310   Way too small. I got a large for my 9.5 feet a...          0\n",
              "199708              Material too thin. Can see through it          1\n",
              "138553  i love this fanny pack. it fits all the things...          1"
            ]
          },
          "execution_count": 44,
          "metadata": {},
          "output_type": "execute_result"
        }
      ],
      "source": [
        "# Create a DataFrame from the X_train_words and y_train\n",
        "train_dataset = pd.DataFrame({'text': X_train_new, 'sentiment': y_train_new})\n",
        "\n",
        "# Display the combined training dataset\n",
        "train_dataset.head()"
      ]
    },
    {
      "cell_type": "code",
      "execution_count": null,
      "id": "7ebc6d04",
      "metadata": {
        "id": "7ebc6d04"
      },
      "outputs": [],
      "source": [
        "train_dataset.to_csv('data/train_reviews.csv', index=False)"
      ]
    },
    {
      "cell_type": "code",
      "execution_count": null,
      "id": "7c688aaa",
      "metadata": {
        "id": "7c688aaa",
        "outputId": "e8ac34a2-d64a-4ac0-d3cc-0e04012cef7c"
      },
      "outputs": [
        {
          "data": {
            "text/html": [
              "<div>\n",
              "<style scoped>\n",
              "    .dataframe tbody tr th:only-of-type {\n",
              "        vertical-align: middle;\n",
              "    }\n",
              "\n",
              "    .dataframe tbody tr th {\n",
              "        vertical-align: top;\n",
              "    }\n",
              "\n",
              "    .dataframe thead th {\n",
              "        text-align: right;\n",
              "    }\n",
              "</style>\n",
              "<table border=\"1\" class=\"dataframe\">\n",
              "  <thead>\n",
              "    <tr style=\"text-align: right;\">\n",
              "      <th></th>\n",
              "      <th>text</th>\n",
              "      <th>sentiment</th>\n",
              "    </tr>\n",
              "  </thead>\n",
              "  <tbody>\n",
              "    <tr>\n",
              "      <th>52253</th>\n",
              "      <td>Controller works amazing, however the seller s...</td>\n",
              "      <td>0</td>\n",
              "    </tr>\n",
              "    <tr>\n",
              "      <th>11052</th>\n",
              "      <td>It took a long time to arrive, and then broke ...</td>\n",
              "      <td>0</td>\n",
              "    </tr>\n",
              "    <tr>\n",
              "      <th>73757</th>\n",
              "      <td>This fan will definitely help to cool down you...</td>\n",
              "      <td>0</td>\n",
              "    </tr>\n",
              "    <tr>\n",
              "      <th>143855</th>\n",
              "      <td>I like these matzos better than any other. I j...</td>\n",
              "      <td>1</td>\n",
              "    </tr>\n",
              "    <tr>\n",
              "      <th>136244</th>\n",
              "      <td>I bought the neck/shoulder wrap version of thi...</td>\n",
              "      <td>1</td>\n",
              "    </tr>\n",
              "  </tbody>\n",
              "</table>\n",
              "</div>"
            ],
            "text/plain": [
              "                                                     text  sentiment\n",
              "52253   Controller works amazing, however the seller s...          0\n",
              "11052   It took a long time to arrive, and then broke ...          0\n",
              "73757   This fan will definitely help to cool down you...          0\n",
              "143855  I like these matzos better than any other. I j...          1\n",
              "136244  I bought the neck/shoulder wrap version of thi...          1"
            ]
          },
          "execution_count": 45,
          "metadata": {},
          "output_type": "execute_result"
        }
      ],
      "source": [
        "# Create a DataFrame from the X_train_words and y_train\n",
        "test_dataset = pd.DataFrame({'text': X_test_new, 'sentiment': y_test_new})\n",
        "\n",
        "# Display the combined training dataset\n",
        "test_dataset.head()"
      ]
    },
    {
      "cell_type": "code",
      "execution_count": null,
      "id": "736be2f8",
      "metadata": {
        "id": "736be2f8"
      },
      "outputs": [],
      "source": [
        "test_dataset.to_csv('data/test_reviews.csv', index=False)"
      ]
    },
    {
      "cell_type": "code",
      "execution_count": null,
      "id": "4b070e1d",
      "metadata": {
        "id": "4b070e1d"
      },
      "outputs": [],
      "source": [
        "# Vectorizing the text\n",
        "vectorizer_new = CountVectorizer(stop_words='english')\n",
        "X_train_counts_new = vectorizer_new.fit_transform(X_train_new)\n",
        "X_test_counts_new = vectorizer_new.transform(X_test_new)\n"
      ]
    },
    {
      "cell_type": "code",
      "execution_count": null,
      "id": "5135671d",
      "metadata": {
        "id": "5135671d",
        "outputId": "771ec067-c52e-4c56-acef-e677ad9164f5"
      },
      "outputs": [
        {
          "data": {
            "text/html": [
              "<style>#sk-container-id-1 {color: black;}#sk-container-id-1 pre{padding: 0;}#sk-container-id-1 div.sk-toggleable {background-color: white;}#sk-container-id-1 label.sk-toggleable__label {cursor: pointer;display: block;width: 100%;margin-bottom: 0;padding: 0.3em;box-sizing: border-box;text-align: center;}#sk-container-id-1 label.sk-toggleable__label-arrow:before {content: \"▸\";float: left;margin-right: 0.25em;color: #696969;}#sk-container-id-1 label.sk-toggleable__label-arrow:hover:before {color: black;}#sk-container-id-1 div.sk-estimator:hover label.sk-toggleable__label-arrow:before {color: black;}#sk-container-id-1 div.sk-toggleable__content {max-height: 0;max-width: 0;overflow: hidden;text-align: left;background-color: #f0f8ff;}#sk-container-id-1 div.sk-toggleable__content pre {margin: 0.2em;color: black;border-radius: 0.25em;background-color: #f0f8ff;}#sk-container-id-1 input.sk-toggleable__control:checked~div.sk-toggleable__content {max-height: 200px;max-width: 100%;overflow: auto;}#sk-container-id-1 input.sk-toggleable__control:checked~label.sk-toggleable__label-arrow:before {content: \"▾\";}#sk-container-id-1 div.sk-estimator input.sk-toggleable__control:checked~label.sk-toggleable__label {background-color: #d4ebff;}#sk-container-id-1 div.sk-label input.sk-toggleable__control:checked~label.sk-toggleable__label {background-color: #d4ebff;}#sk-container-id-1 input.sk-hidden--visually {border: 0;clip: rect(1px 1px 1px 1px);clip: rect(1px, 1px, 1px, 1px);height: 1px;margin: -1px;overflow: hidden;padding: 0;position: absolute;width: 1px;}#sk-container-id-1 div.sk-estimator {font-family: monospace;background-color: #f0f8ff;border: 1px dotted black;border-radius: 0.25em;box-sizing: border-box;margin-bottom: 0.5em;}#sk-container-id-1 div.sk-estimator:hover {background-color: #d4ebff;}#sk-container-id-1 div.sk-parallel-item::after {content: \"\";width: 100%;border-bottom: 1px solid gray;flex-grow: 1;}#sk-container-id-1 div.sk-label:hover label.sk-toggleable__label {background-color: #d4ebff;}#sk-container-id-1 div.sk-serial::before {content: \"\";position: absolute;border-left: 1px solid gray;box-sizing: border-box;top: 0;bottom: 0;left: 50%;z-index: 0;}#sk-container-id-1 div.sk-serial {display: flex;flex-direction: column;align-items: center;background-color: white;padding-right: 0.2em;padding-left: 0.2em;position: relative;}#sk-container-id-1 div.sk-item {position: relative;z-index: 1;}#sk-container-id-1 div.sk-parallel {display: flex;align-items: stretch;justify-content: center;background-color: white;position: relative;}#sk-container-id-1 div.sk-item::before, #sk-container-id-1 div.sk-parallel-item::before {content: \"\";position: absolute;border-left: 1px solid gray;box-sizing: border-box;top: 0;bottom: 0;left: 50%;z-index: -1;}#sk-container-id-1 div.sk-parallel-item {display: flex;flex-direction: column;z-index: 1;position: relative;background-color: white;}#sk-container-id-1 div.sk-parallel-item:first-child::after {align-self: flex-end;width: 50%;}#sk-container-id-1 div.sk-parallel-item:last-child::after {align-self: flex-start;width: 50%;}#sk-container-id-1 div.sk-parallel-item:only-child::after {width: 0;}#sk-container-id-1 div.sk-dashed-wrapped {border: 1px dashed gray;margin: 0 0.4em 0.5em 0.4em;box-sizing: border-box;padding-bottom: 0.4em;background-color: white;}#sk-container-id-1 div.sk-label label {font-family: monospace;font-weight: bold;display: inline-block;line-height: 1.2em;}#sk-container-id-1 div.sk-label-container {text-align: center;}#sk-container-id-1 div.sk-container {/* jupyter's `normalize.less` sets `[hidden] { display: none; }` but bootstrap.min.css set `[hidden] { display: none !important; }` so we also need the `!important` here to be able to override the default hidden behavior on the sphinx rendered scikit-learn.org. See: https://github.com/scikit-learn/scikit-learn/issues/21755 */display: inline-block !important;position: relative;}#sk-container-id-1 div.sk-text-repr-fallback {display: none;}</style><div id=\"sk-container-id-1\" class=\"sk-top-container\"><div class=\"sk-text-repr-fallback\"><pre>MultinomialNB()</pre><b>In a Jupyter environment, please rerun this cell to show the HTML representation or trust the notebook. <br />On GitHub, the HTML representation is unable to render, please try loading this page with nbviewer.org.</b></div><div class=\"sk-container\" hidden><div class=\"sk-item\"><div class=\"sk-estimator sk-toggleable\"><input class=\"sk-toggleable__control sk-hidden--visually\" id=\"sk-estimator-id-1\" type=\"checkbox\" checked><label for=\"sk-estimator-id-1\" class=\"sk-toggleable__label sk-toggleable__label-arrow\">MultinomialNB</label><div class=\"sk-toggleable__content\"><pre>MultinomialNB()</pre></div></div></div></div></div>"
            ],
            "text/plain": [
              "MultinomialNB()"
            ]
          },
          "execution_count": 17,
          "metadata": {},
          "output_type": "execute_result"
        }
      ],
      "source": [
        "# Training the Naive Bayes classifier\n",
        "clf_new = MultinomialNB()\n",
        "clf_new.fit(X_train_counts_new, y_train_new)\n"
      ]
    },
    {
      "cell_type": "markdown",
      "id": "053268f0",
      "metadata": {
        "id": "053268f0"
      },
      "source": [
        "## Calculate the accuracy of the model"
      ]
    },
    {
      "cell_type": "code",
      "execution_count": null,
      "id": "76cd46b5",
      "metadata": {
        "id": "76cd46b5",
        "outputId": "9ae5252e-9814-4c5d-abbf-8a5db9ae6afa"
      },
      "outputs": [
        {
          "name": "stdout",
          "output_type": "stream",
          "text": [
            "Accuracy: 0.8289186662511686\n"
          ]
        }
      ],
      "source": [
        "# Predicting the test set results\n",
        "y_pred_new = clf_new.predict(X_test_counts_new)\n",
        "\n",
        "# Calculating the accuracy\n",
        "accuracy_new = accuracy_score(y_test_new, y_pred_new)\n",
        "\n",
        "# Print the accuracy\n",
        "print(f'Accuracy: {accuracy_new}')\n"
      ]
    },
    {
      "cell_type": "code",
      "execution_count": null,
      "id": "1ca0db34",
      "metadata": {
        "id": "1ca0db34",
        "outputId": "8acd098d-d16e-4eb6-9a06-7af3222901cf"
      },
      "outputs": [
        {
          "name": "stdout",
          "output_type": "stream",
          "text": [
            "Accuracy: 82.89%\n",
            "Precision: 81.00%\n",
            "Recall: 84.78%\n",
            "F1 Score: 82.85%\n"
          ]
        }
      ],
      "source": [
        "# Evaluate the model\n",
        "accuracy = accuracy_score(y_test_new, y_pred_new)\n",
        "precision = precision_score(y_test_new, y_pred_new)\n",
        "recall = recall_score(y_test_new, y_pred_new)\n",
        "f1 = f1_score(y_test_new, y_pred_new)\n",
        "\n",
        "# Output the results\n",
        "print(\"Accuracy: {:.2f}%\".format(accuracy * 100))\n",
        "print(\"Precision: {:.2f}%\".format(precision * 100))\n",
        "print(\"Recall: {:.2f}%\".format(recall * 100))\n",
        "print(\"F1 Score: {:.2f}%\".format(f1 * 100))"
      ]
    },
    {
      "cell_type": "markdown",
      "id": "73a531fc",
      "metadata": {
        "id": "73a531fc"
      },
      "source": [
        "## Confusion Matrix"
      ]
    },
    {
      "cell_type": "code",
      "execution_count": null,
      "id": "7bf7556c",
      "metadata": {
        "id": "7bf7556c",
        "outputId": "8fc51e07-4ba8-41da-c685-4d9d1f430aaa"
      },
      "outputs": [
        {
          "data": {
            "image/png": "[encoded data removed]",
            "text/plain": [
              "<Figure size 640x480 with 2 Axes>"
            ]
          },
          "metadata": {},
          "output_type": "display_data"
        }
      ],
      "source": [
        "conf_matrix = confusion_matrix(y_test_new, y_pred_new)\n",
        "sns.heatmap(conf_matrix, annot=True, fmt=\"d\", cmap=\"Blues\")\n",
        "plt.title('Confusion Matrix for Sentiment Analysis')\n",
        "plt.xlabel('Predicted Labels')\n",
        "plt.ylabel('True Labels')\n",
        "plt.show()\n"
      ]
    },
    {
      "cell_type": "markdown",
      "id": "8d89460e",
      "metadata": {
        "id": "8d89460e"
      },
      "source": [
        "# 2. CLASSIFYING SENTENCES IF THEY ARE IMPORTANT OR NOT BASED ON NAIVE BAYES"
      ]
    },
    {
      "cell_type": "code",
      "execution_count": null,
      "id": "8f387faf",
      "metadata": {
        "id": "8f387faf"
      },
      "outputs": [],
      "source": [
        "import numpy as np\n",
        "from sklearn.feature_extraction.text import TfidfVectorizer\n",
        "from sklearn.metrics.pairwise import cosine_similarity\n",
        "from nltk.tokenize import sent_tokenize\n",
        "from sklearn.model_selection import train_test_split\n",
        "from sklearn.naive_bayes import MultinomialNB\n",
        "from sklearn.metrics import classification_report\n",
        "from sklearn.metrics.pairwise import cosine_similarity\n",
        "from sklearn.metrics import classification_report\n",
        "from sklearn.utils import class_weight\n",
        "from imblearn.over_sampling import SMOTE"
      ]
    },
    {
      "cell_type": "code",
      "execution_count": null,
      "id": "37319a9e",
      "metadata": {
        "id": "37319a9e"
      },
      "outputs": [],
      "source": [
        "df1 = pd.read_csv('train.csv')"
      ]
    },
    {
      "cell_type": "code",
      "execution_count": null,
      "id": "ab8b8b1f",
      "metadata": {
        "id": "ab8b8b1f",
        "outputId": "992e15c1-d353-476b-9128-02fdb7465de6"
      },
      "outputs": [
        {
          "data": {
            "text/html": [
              "<div>\n",
              "<style scoped>\n",
              "    .dataframe tbody tr th:only-of-type {\n",
              "        vertical-align: middle;\n",
              "    }\n",
              "\n",
              "    .dataframe tbody tr th {\n",
              "        vertical-align: top;\n",
              "    }\n",
              "\n",
              "    .dataframe thead th {\n",
              "        text-align: right;\n",
              "    }\n",
              "</style>\n",
              "<table border=\"1\" class=\"dataframe\">\n",
              "  <thead>\n",
              "    <tr style=\"text-align: right;\">\n",
              "      <th></th>\n",
              "      <th>text</th>\n",
              "      <th>summary</th>\n",
              "    </tr>\n",
              "  </thead>\n",
              "  <tbody>\n",
              "    <tr>\n",
              "      <th>0</th>\n",
              "      <td>The method of obtaining new integrable coupl...</td>\n",
              "      <td>Enlarged spectral problems and nonintegrability</td>\n",
              "    </tr>\n",
              "    <tr>\n",
              "      <th>1</th>\n",
              "      <td>The Open Science Collaboration recently repo...</td>\n",
              "      <td>Recent reproducibility estimates indicate that...</td>\n",
              "    </tr>\n",
              "    <tr>\n",
              "      <th>2</th>\n",
              "      <td>Inter-Prediction is used effectively in mult...</td>\n",
              "      <td>Improvements of Motion Estimation and Coding u...</td>\n",
              "    </tr>\n",
              "    <tr>\n",
              "      <th>3</th>\n",
              "      <td>Proton-proton collision data recorded in 201...</td>\n",
              "      <td>Observation of the ${B^0 \\to \\rho^0 \\rho^0}$ d...</td>\n",
              "    </tr>\n",
              "    <tr>\n",
              "      <th>4</th>\n",
              "      <td>We give some higher dimensional analogues of...</td>\n",
              "      <td>Multipartitions, Generalized Durfee Squares an...</td>\n",
              "    </tr>\n",
              "  </tbody>\n",
              "</table>\n",
              "</div>"
            ],
            "text/plain": [
              "                                                text  \\\n",
              "0    The method of obtaining new integrable coupl...   \n",
              "1    The Open Science Collaboration recently repo...   \n",
              "2    Inter-Prediction is used effectively in mult...   \n",
              "3    Proton-proton collision data recorded in 201...   \n",
              "4    We give some higher dimensional analogues of...   \n",
              "\n",
              "                                             summary  \n",
              "0    Enlarged spectral problems and nonintegrability  \n",
              "1  Recent reproducibility estimates indicate that...  \n",
              "2  Improvements of Motion Estimation and Coding u...  \n",
              "3  Observation of the ${B^0 \\to \\rho^0 \\rho^0}$ d...  \n",
              "4  Multipartitions, Generalized Durfee Squares an...  "
            ]
          },
          "execution_count": 21,
          "metadata": {},
          "output_type": "execute_result"
        }
      ],
      "source": [
        "df1.head()"
      ]
    },
    {
      "cell_type": "markdown",
      "id": "24eadff6",
      "metadata": {
        "id": "24eadff6"
      },
      "source": [
        "## Define a simple sentence tokenizer using basic Python string functions"
      ]
    },
    {
      "cell_type": "code",
      "execution_count": null,
      "id": "76b7ef42",
      "metadata": {
        "id": "76b7ef42"
      },
      "outputs": [],
      "source": [
        "def simple_sent_tokenize(text):\n",
        "    # Splitting by period followed by a space to approximate sentence boundaries\n",
        "    sentences = [sentence.strip() for sentence in text.split('. ') if sentence]\n",
        "    return sentences"
      ]
    },
    {
      "cell_type": "code",
      "execution_count": null,
      "id": "5feda1fb",
      "metadata": {
        "id": "5feda1fb"
      },
      "outputs": [],
      "source": [
        "def label_sentences_simple(row):\n",
        "    # Tokenize the text into sentences using the simple method\n",
        "    sentences = simple_sent_tokenize(row['text'])\n",
        "    # Re-initialize the TF-IDF Vectorizer to avoid fitting on previous texts\n",
        "    tfidf_vectorizer = TfidfVectorizer()\n",
        "    # Vectorize the sentences and the summary\n",
        "    docs_tfidf = tfidf_vectorizer.fit_transform(sentences + [row['summary']])\n",
        "    # Calculate cosine similarity between each sentence and the summary\n",
        "    cos_similarities = cosine_similarity(docs_tfidf[-1], docs_tfidf[:-1]).flatten()\n",
        "    # Determine a threshold for labeling a sentence as 'important'\n",
        "    threshold = np.mean(cos_similarities) + np.std(cos_similarities)\n",
        "    # Label sentences based on the threshold\n",
        "    labels = ['important' if sim >= threshold else 'not important' for sim in cos_similarities]\n",
        "    return list(zip(sentences, labels))"
      ]
    },
    {
      "cell_type": "code",
      "execution_count": null,
      "id": "50f21e05",
      "metadata": {
        "id": "50f21e05",
        "outputId": "aa179d32-1e2c-498e-9ab2-3088acd6e988"
      },
      "outputs": [
        {
          "data": {
            "text/plain": [
              "119737    [(Not strong enough to run a small 120v vacuum...\n",
              "72272     [(The leg openings are a little small, but oth...\n",
              "158154    [(Really cute mug, not important), (I would ha...\n",
              "65426     [(Well it’s looks and feels okay but it most c...\n",
              "30074     [(Very, very thin, you can bend them with you ...\n",
              "23677     [(Super cute! Loved it until I noticed that th...\n",
              "134858    [(Fairly thick material, so the poncho should ...\n",
              "176418    [(These bags have a lot of space in them, good...\n",
              "132467    [(Super cute and very sturdy set, important), ...\n",
              "4082        [(Broke down after a month's use!!, important)]\n",
              "dtype: object"
            ]
          },
          "execution_count": 24,
          "metadata": {},
          "output_type": "execute_result"
        }
      ],
      "source": [
        "# Apply the simple labeling function to a small subset to test\n",
        "sample_data_simple = df.head(10).apply(label_sentences_simple, axis=1)\n",
        "sample_data_simple"
      ]
    },
    {
      "cell_type": "code",
      "execution_count": null,
      "id": "04b90858",
      "metadata": {
        "id": "04b90858"
      },
      "outputs": [],
      "source": [
        "# Compile labeled sentences into a dataset\n",
        "labeled_sentences = []\n",
        "for entry in sample_data_simple:\n",
        "    for sentence, label in entry:\n",
        "        labeled_sentences.append((sentence, label))\n",
        "labeled_df = pd.DataFrame(labeled_sentences, columns=['sentence', 'label'])"
      ]
    },
    {
      "cell_type": "code",
      "execution_count": null,
      "id": "9a5fdd0e",
      "metadata": {
        "id": "9a5fdd0e"
      },
      "outputs": [],
      "source": [
        "# Feature Extraction with TF-IDF\n",
        "tfidf_vectorizer = TfidfVectorizer()\n",
        "X = tfidf_vectorizer.fit_transform(labeled_df['sentence'])\n",
        "y = labeled_df['label']"
      ]
    },
    {
      "cell_type": "code",
      "execution_count": null,
      "id": "7471a2c5",
      "metadata": {
        "id": "7471a2c5"
      },
      "outputs": [],
      "source": [
        "# Train/Test Split\n",
        "X_train, X_test, y_train, y_test = train_test_split(X, y, test_size=0.2, random_state=42)\n"
      ]
    },
    {
      "cell_type": "markdown",
      "id": "e4050bcb",
      "metadata": {
        "id": "e4050bcb"
      },
      "source": [
        "## Print training datset"
      ]
    },
    {
      "cell_type": "code",
      "execution_count": null,
      "id": "58222c6b",
      "metadata": {
        "id": "58222c6b",
        "outputId": "66d5766f-0994-4939-fdf9-484228b6985c"
      },
      "outputs": [
        {
          "data": {
            "text/html": [
              "<div>\n",
              "<style scoped>\n",
              "    .dataframe tbody tr th:only-of-type {\n",
              "        vertical-align: middle;\n",
              "    }\n",
              "\n",
              "    .dataframe tbody tr th {\n",
              "        vertical-align: top;\n",
              "    }\n",
              "\n",
              "    .dataframe thead th {\n",
              "        text-align: right;\n",
              "    }\n",
              "</style>\n",
              "<table border=\"1\" class=\"dataframe\">\n",
              "  <thead>\n",
              "    <tr style=\"text-align: right;\">\n",
              "      <th></th>\n",
              "      <th>TF-IDF vectors of text</th>\n",
              "      <th>importance</th>\n",
              "    </tr>\n",
              "  </thead>\n",
              "  <tbody>\n",
              "    <tr>\n",
              "      <th>5</th>\n",
              "      <td>(0, 82)\\t0.6157108322264327\\n  (0, 29)\\t0.49...</td>\n",
              "      <td>not important</td>\n",
              "    </tr>\n",
              "    <tr>\n",
              "      <th>20</th>\n",
              "      <td>(0, 32)\\t0.4574707548393325\\n  (0, 84)\\t0.45...</td>\n",
              "      <td>important</td>\n",
              "    </tr>\n",
              "    <tr>\n",
              "      <th>11</th>\n",
              "      <td>(0, 96)\\t0.2253936696269525\\n  (0, 124)\\t0.2...</td>\n",
              "      <td>important</td>\n",
              "    </tr>\n",
              "    <tr>\n",
              "      <th>3</th>\n",
              "      <td>(0, 9)\\t0.23186030905551236\\n  (0, 139)\\t0.2...</td>\n",
              "      <td>important</td>\n",
              "    </tr>\n",
              "    <tr>\n",
              "      <th>4</th>\n",
              "      <td>(0, 142)\\t0.6768372897556043\\n  (0, 138)\\t0....</td>\n",
              "      <td>important</td>\n",
              "    </tr>\n",
              "  </tbody>\n",
              "</table>\n",
              "</div>"
            ],
            "text/plain": [
              "                               TF-IDF vectors of text     importance\n",
              "5     (0, 82)\\t0.6157108322264327\\n  (0, 29)\\t0.49...  not important\n",
              "20    (0, 32)\\t0.4574707548393325\\n  (0, 84)\\t0.45...      important\n",
              "11    (0, 96)\\t0.2253936696269525\\n  (0, 124)\\t0.2...      important\n",
              "3     (0, 9)\\t0.23186030905551236\\n  (0, 139)\\t0.2...      important\n",
              "4     (0, 142)\\t0.6768372897556043\\n  (0, 138)\\t0....      important"
            ]
          },
          "execution_count": 52,
          "metadata": {},
          "output_type": "execute_result"
        }
      ],
      "source": [
        "# Create a DataFrame from the X_train_words and y_train\n",
        "train_df = pd.DataFrame({'TF-IDF vectors of text': X_train, 'importance': y_train})\n",
        "\n",
        "# Display the combined training dataset\n",
        "train_df.head()"
      ]
    },
    {
      "cell_type": "code",
      "execution_count": null,
      "id": "cfb17440",
      "metadata": {
        "id": "cfb17440"
      },
      "outputs": [],
      "source": [
        "train_df.to_csv('data/train_train.csv', index=False)"
      ]
    },
    {
      "cell_type": "markdown",
      "id": "316d6be6",
      "metadata": {
        "id": "316d6be6"
      },
      "source": [
        "## Print testing dataset"
      ]
    },
    {
      "cell_type": "code",
      "execution_count": null,
      "id": "932ac584",
      "metadata": {
        "id": "932ac584",
        "outputId": "7e0439e8-369c-42a9-b73d-23912746abc6"
      },
      "outputs": [
        {
          "data": {
            "text/html": [
              "<div>\n",
              "<style scoped>\n",
              "    .dataframe tbody tr th:only-of-type {\n",
              "        vertical-align: middle;\n",
              "    }\n",
              "\n",
              "    .dataframe tbody tr th {\n",
              "        vertical-align: top;\n",
              "    }\n",
              "\n",
              "    .dataframe thead th {\n",
              "        text-align: right;\n",
              "    }\n",
              "</style>\n",
              "<table border=\"1\" class=\"dataframe\">\n",
              "  <thead>\n",
              "    <tr style=\"text-align: right;\">\n",
              "      <th></th>\n",
              "      <th>TF-IDF vectors of text</th>\n",
              "      <th>importance</th>\n",
              "    </tr>\n",
              "  </thead>\n",
              "  <tbody>\n",
              "    <tr>\n",
              "      <th>0</th>\n",
              "      <td>(0, 21)\\t0.29919428427597333\\n  (0, 24)\\t0.2...</td>\n",
              "      <td>important</td>\n",
              "    </tr>\n",
              "    <tr>\n",
              "      <th>13</th>\n",
              "      <td>(0, 146)\\t0.3225369642738519\\n  (0, 52)\\t0.2...</td>\n",
              "      <td>not important</td>\n",
              "    </tr>\n",
              "    <tr>\n",
              "      <th>8</th>\n",
              "      <td>(0, 101)\\t0.244254761995403\\n  (0, 102)\\t0.2...</td>\n",
              "      <td>important</td>\n",
              "    </tr>\n",
              "    <tr>\n",
              "      <th>1</th>\n",
              "      <td>(0, 75)\\t0.22014525722111444\\n  (0, 105)\\t0....</td>\n",
              "      <td>important</td>\n",
              "    </tr>\n",
              "    <tr>\n",
              "      <th>15</th>\n",
              "      <td>(0, 19)\\t0.39892055822439054\\n  (0, 56)\\t0.3...</td>\n",
              "      <td>important</td>\n",
              "    </tr>\n",
              "  </tbody>\n",
              "</table>\n",
              "</div>"
            ],
            "text/plain": [
              "                               TF-IDF vectors of text     importance\n",
              "0     (0, 21)\\t0.29919428427597333\\n  (0, 24)\\t0.2...      important\n",
              "13    (0, 146)\\t0.3225369642738519\\n  (0, 52)\\t0.2...  not important\n",
              "8     (0, 101)\\t0.244254761995403\\n  (0, 102)\\t0.2...      important\n",
              "1     (0, 75)\\t0.22014525722111444\\n  (0, 105)\\t0....      important\n",
              "15    (0, 19)\\t0.39892055822439054\\n  (0, 56)\\t0.3...      important"
            ]
          },
          "execution_count": 56,
          "metadata": {},
          "output_type": "execute_result"
        }
      ],
      "source": [
        "# Create a DataFrame from the X_train_words and y_train\n",
        "test_df = pd.DataFrame({'TF-IDF vectors of text': X_test, 'importance': y_test})\n",
        "\n",
        "# Display the combined training dataset\n",
        "test_df.head()"
      ]
    },
    {
      "cell_type": "code",
      "execution_count": null,
      "id": "f0eeb188",
      "metadata": {
        "id": "f0eeb188"
      },
      "outputs": [],
      "source": [
        "test_df.to_csv('data/test_train.csv', index=False)"
      ]
    },
    {
      "cell_type": "code",
      "execution_count": null,
      "id": "0bb2d374",
      "metadata": {
        "id": "0bb2d374"
      },
      "outputs": [],
      "source": [
        "# Train a Multinomial Naive Bayes classifier\n",
        "model = MultinomialNB()\n",
        "model.fit(X_train, y_train)\n",
        "\n",
        "# Predict on the test set\n",
        "y_pred = model.predict(X_test)"
      ]
    },
    {
      "cell_type": "code",
      "execution_count": null,
      "id": "40c38cea",
      "metadata": {
        "id": "40c38cea",
        "outputId": "497b6b4b-7345-4d5d-f041-ee8752353c3d"
      },
      "outputs": [
        {
          "name": "stdout",
          "output_type": "stream",
          "text": [
            "               precision    recall  f1-score   support\n",
            "\n",
            "    important       0.80      1.00      0.89         4\n",
            "not important       0.00      0.00      0.00         1\n",
            "\n",
            "     accuracy                           0.80         5\n",
            "    macro avg       0.40      0.50      0.44         5\n",
            " weighted avg       0.64      0.80      0.71         5\n",
            "\n"
          ]
        }
      ],
      "source": [
        "# Evaluate the model with zero_division parameter set to 0\n",
        "report = classification_report(y_test, y_pred, zero_division=0)\n",
        "\n",
        "print(report)"
      ]
    },
    {
      "cell_type": "code",
      "execution_count": null,
      "id": "685e1637",
      "metadata": {
        "id": "685e1637",
        "outputId": "5ffa71f4-6218-4b6b-a79a-1691d8cfeb77"
      },
      "outputs": [
        {
          "data": {
            "image/png": "[encoded data removed]",
            "text/plain": [
              "<Figure size 800x600 with 2 Axes>"
            ]
          },
          "metadata": {},
          "output_type": "display_data"
        }
      ],
      "source": [
        "# True labels\n",
        "y_true = ['important'] * 4 + ['not important'] * 1  # Based on support values\n",
        "# Predicted labels\n",
        "y_pred = ['important'] * 5  # Inferred from F1 score, precision, and recall of 'not important' class being 0\n",
        "\n",
        "# Create the confusion matrix\n",
        "cm = confusion_matrix(y_true, y_pred, labels=['important', 'not important'])\n",
        "\n",
        "# Plot the confusion matrix\n",
        "fig, ax = plt.subplots(figsize=(8, 6))\n",
        "sns.heatmap(cm, annot=True, fmt='d', cmap='Blues', xticklabels=['important', 'not important'], yticklabels=['important', 'not important'])\n",
        "plt.title('Confusion Matrix for Sentence Classification')\n",
        "plt.xlabel('Predicted Labels')\n",
        "plt.ylabel('True Labels')\n",
        "plt.show()"
      ]
    },
    {
      "cell_type": "markdown",
      "id": "5107a4f9",
      "metadata": {
        "id": "5107a4f9"
      },
      "source": [
        "## Improving the scores by balancing the dataset using SMOTE"
      ]
    },
    {
      "cell_type": "code",
      "execution_count": null,
      "id": "85ca23fb",
      "metadata": {
        "scrolled": true,
        "id": "85ca23fb",
        "outputId": "9edce820-288c-4713-a5cf-ad35cc7297f4"
      },
      "outputs": [
        {
          "name": "stdout",
          "output_type": "stream",
          "text": [
            "              precision    recall  f1-score   support\n",
            "\n",
            "           0       1.00      1.00      1.00         3\n",
            "           1       1.00      1.00      1.00         3\n",
            "\n",
            "    accuracy                           1.00         6\n",
            "   macro avg       1.00      1.00      1.00         6\n",
            "weighted avg       1.00      1.00      1.00         6\n",
            "\n"
          ]
        }
      ],
      "source": [
        "tfidf_vectorizer = TfidfVectorizer(ngram_range=(1, 3))\n",
        "X = tfidf_vectorizer.fit_transform(labeled_df['sentence'])\n",
        "\n",
        "# Get the labels\n",
        "labels = labeled_df['label']\n",
        "\n",
        "# Convert labels to a numeric format\n",
        "labels = labels.map({'not important': 0, 'important': 1})\n",
        "\n",
        "# Compute class weights\n",
        "class_weights = class_weight.compute_class_weight('balanced', classes=np.unique(labels), y=labels)\n",
        "class_weight_dict = dict(enumerate(class_weights))\n",
        "\n",
        "# Over-sampling using SMOTE\n",
        "smote = SMOTE(random_state=42)\n",
        "X_resampled, y_resampled = smote.fit_resample(X, labels)\n",
        "\n",
        "# Split the data into training and testing sets\n",
        "X_train, X_test, y_train, y_test = train_test_split(X_resampled, y_resampled, test_size=0.2, random_state=42)\n",
        "\n",
        "# Train a Multinomial Naive Bayes classifier with class weight\n",
        "model = MultinomialNB(alpha=0.1)\n",
        "model.fit(X_train, y_train, sample_weight=y_train.map(class_weight_dict))\n",
        "\n",
        "# Predict on the test set\n",
        "y_pred = model.predict(X_test)\n",
        "\n",
        "# Evaluate the model\n",
        "print(classification_report(y_test, y_pred))"
      ]
    },
    {
      "cell_type": "markdown",
      "id": "14375a9a",
      "metadata": {
        "id": "14375a9a"
      },
      "source": [
        "## Confusion Matrix"
      ]
    },
    {
      "cell_type": "code",
      "execution_count": null,
      "id": "4c82b2b7",
      "metadata": {
        "id": "4c82b2b7",
        "outputId": "df3b29f1-d5cc-43e8-e3f8-f477c4d590cc"
      },
      "outputs": [
        {
          "data": {
            "image/png": "[encoded data removed]",
            "text/plain": [
              "<Figure size 640x480 with 2 Axes>"
            ]
          },
          "metadata": {},
          "output_type": "display_data"
        }
      ],
      "source": [
        "import matplotlib.pyplot as plt\n",
        "import seaborn as sns\n",
        "import numpy as np\n",
        "\n",
        "# Theoretical confusion matrix data based on your results\n",
        "cm_data = np.array([[3, 0], [0, 3]])\n",
        "\n",
        "# Creating a heatmap\n",
        "sns.heatmap(cm_data, annot=True, fmt=\"d\", cmap=\"Blues\", xticklabels=['Not Important', 'Important'], yticklabels=['Not Important', 'Important'])\n",
        "plt.title('Confusion Matrix')\n",
        "plt.xlabel('Predicted Labels')\n",
        "plt.ylabel('True Labels')\n",
        "plt.show()\n"
      ]
    },
    {
      "cell_type": "code",
      "execution_count": null,
      "id": "8dd35c08",
      "metadata": {
        "id": "8dd35c08"
      },
      "outputs": [],
      "source": []
    }
  ],
  "metadata": {
    "kernelspec": {
      "display_name": "Python 3 (ipykernel)",
      "language": "python",
      "name": "python3"
    },
    "language_info": {
      "codemirror_mode": {
        "name": "ipython",
        "version": 3
      },
      "file_extension": ".py",
      "mimetype": "text/x-python",
      "name": "python",
      "nbconvert_exporter": "python",
      "pygments_lexer": "ipython3",
      "version": "3.11.4"
    },
    "colab": {
      "provenance": []
    }
  },
  "nbformat": 4,
  "nbformat_minor": 5
}